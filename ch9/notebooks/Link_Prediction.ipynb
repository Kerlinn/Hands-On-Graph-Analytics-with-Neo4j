{
 "cells": [
  {
   "cell_type": "markdown",
   "metadata": {},
   "source": [
    "# Link prediction with Neo4j and a single metric\n",
    "\n",
    "This notebook runs a link prediction model from a Neo4j graph using link prediction functions from the GDS.\n"
   ]
  },
  {
   "cell_type": "code",
   "execution_count": 1,
   "metadata": {},
   "outputs": [],
   "source": [
    "%matplotlib inline\n",
    "import matplotlib.pyplot as plt\n",
    "\n",
    "import numpy as np\n",
    "import pandas as pd\n",
    "from neo4j import GraphDatabase\n",
    "\n",
    "from imblearn.under_sampling import RandomUnderSampler\n",
    "from sklearn.model_selection import train_test_split\n",
    "from sklearn.metrics import roc_curve, roc_auc_score, precision_recall_curve, auc\n",
    "from sklearn.base import BaseEstimator, ClassifierMixin\n",
    "from sklearn.metrics import confusion_matrix, plot_confusion_matrix"
   ]
  },
  {
   "cell_type": "code",
   "execution_count": 2,
   "metadata": {},
   "outputs": [],
   "source": [
    "SEED = 12345"
   ]
  },
  {
   "cell_type": "markdown",
   "metadata": {},
   "source": [
    "## Extracting data from Neo4j\n",
    "\n",
    "The Cypher query computing link prediction score for each pair of nodes in the graph can take some time. If you encounter issues in running it, you can use the extracted data in [`../data/adamic_adar_scores_labelled.csv`](`../data/adamic_adar_scores_labelled.csv`)"
   ]
  },
  {
   "cell_type": "code",
   "execution_count": 3,
   "metadata": {},
   "outputs": [],
   "source": [
    "cypher = \"\"\"\n",
    "MATCH (u)\n",
    "MATCH (v) \n",
    "WHERE u.id < v.id  // exclude u = v\n",
    "AND NOT ( (u)-[:KNOWS_TRAIN]-(v) )\n",
    "WITH u, v,  gds.alpha.linkprediction.adamicAdar(\n",
    "                u, v, {\n",
    "                        relationshipQuery: \"KNOWS_T1\", \n",
    "                        direction: \"BOTH\"\n",
    "                }\n",
    "            ) as score\n",
    "RETURN  u.id as u_id, \n",
    "        v.id as v_id, \n",
    "        score, \n",
    "        EXISTS( (u)-[:KNOWS_T2]-(v) ) as label\n",
    "\"\"\""
   ]
  },
  {
   "cell_type": "code",
   "execution_count": 4,
   "metadata": {},
   "outputs": [],
   "source": [
    "# Set your own connection parameters\n",
    "driver = GraphDatabase.driver(\"bolt://localhost:7687\", auth=(\"neo4j\", \"<YOUR_PASSWORD>\"))"
   ]
  },
  {
   "cell_type": "code",
   "execution_count": 5,
   "metadata": {},
   "outputs": [],
   "source": [
    "with driver.session() as session:\n",
    "    rec = session.run(cypher)\n",
    "d = rec.data()"
   ]
  },
  {
   "cell_type": "code",
   "execution_count": 6,
   "metadata": {},
   "outputs": [],
   "source": [
    "df = pd.DataFrame.from_records(d)\n",
    "# df.to_csv(\"adamic_adar_scores_labelled.csv\", index=False)"
   ]
  },
  {
   "cell_type": "code",
   "execution_count": 7,
   "metadata": {},
   "outputs": [],
   "source": [
    "# cached version of the above dataset\n",
    "# df = pd.read_csv(\"../data/adamic_adar_scores_labelled.csv\")"
   ]
  },
  {
   "cell_type": "code",
   "execution_count": 8,
   "metadata": {},
   "outputs": [
    {
     "data": {
      "text/html": [
       "<div>\n",
       "<style scoped>\n",
       "    .dataframe tbody tr th:only-of-type {\n",
       "        vertical-align: middle;\n",
       "    }\n",
       "\n",
       "    .dataframe tbody tr th {\n",
       "        vertical-align: top;\n",
       "    }\n",
       "\n",
       "    .dataframe thead th {\n",
       "        text-align: right;\n",
       "    }\n",
       "</style>\n",
       "<table border=\"1\" class=\"dataframe\">\n",
       "  <thead>\n",
       "    <tr style=\"text-align: right;\">\n",
       "      <th></th>\n",
       "      <th>u_id</th>\n",
       "      <th>v_id</th>\n",
       "      <th>score</th>\n",
       "      <th>label</th>\n",
       "    </tr>\n",
       "  </thead>\n",
       "  <tbody>\n",
       "    <tr>\n",
       "      <th>0</th>\n",
       "      <td>0</td>\n",
       "      <td>2</td>\n",
       "      <td>0.000000</td>\n",
       "      <td>False</td>\n",
       "    </tr>\n",
       "    <tr>\n",
       "      <th>1</th>\n",
       "      <td>0</td>\n",
       "      <td>3</td>\n",
       "      <td>1.880866</td>\n",
       "      <td>False</td>\n",
       "    </tr>\n",
       "    <tr>\n",
       "      <th>2</th>\n",
       "      <td>0</td>\n",
       "      <td>4</td>\n",
       "      <td>8.771774</td>\n",
       "      <td>False</td>\n",
       "    </tr>\n",
       "    <tr>\n",
       "      <th>3</th>\n",
       "      <td>0</td>\n",
       "      <td>5</td>\n",
       "      <td>4.732224</td>\n",
       "      <td>False</td>\n",
       "    </tr>\n",
       "    <tr>\n",
       "      <th>4</th>\n",
       "      <td>0</td>\n",
       "      <td>6</td>\n",
       "      <td>3.003647</td>\n",
       "      <td>False</td>\n",
       "    </tr>\n",
       "  </tbody>\n",
       "</table>\n",
       "</div>"
      ],
      "text/plain": [
       "   u_id  v_id     score  label\n",
       "0     0     2  0.000000  False\n",
       "1     0     3  1.880866  False\n",
       "2     0     4  8.771774  False\n",
       "3     0     5  4.732224  False\n",
       "4     0     6  3.003647  False"
      ]
     },
     "execution_count": 8,
     "metadata": {},
     "output_type": "execute_result"
    }
   ],
   "source": [
    "df.head()"
   ]
  },
  {
   "cell_type": "code",
   "execution_count": 9,
   "metadata": {
    "scrolled": true
   },
   "outputs": [
    {
     "data": {
      "text/plain": [
       "False    105555\n",
       "True       3839\n",
       "Name: label, dtype: int64"
      ]
     },
     "execution_count": 9,
     "metadata": {},
     "output_type": "execute_result"
    }
   ],
   "source": [
    "df.label.value_counts()"
   ]
  },
  {
   "cell_type": "markdown",
   "metadata": {},
   "source": [
    "## Creating train/test samples with undersampling"
   ]
  },
  {
   "cell_type": "code",
   "execution_count": 10,
   "metadata": {},
   "outputs": [],
   "source": [
    "X = df[[\"score\"]]\n",
    "y = df.label\n",
    "X_train, X_test, y_train, y_test = train_test_split(X, y, test_size=0.2, random_state=42, stratify=y)"
   ]
  },
  {
   "cell_type": "code",
   "execution_count": 11,
   "metadata": {},
   "outputs": [],
   "source": [
    "rus = RandomUnderSampler(random_state=SEED)\n",
    "X_train, y_train = rus.fit_resample(X_train, y_train)"
   ]
  },
  {
   "cell_type": "code",
   "execution_count": 12,
   "metadata": {
    "scrolled": false
   },
   "outputs": [
    {
     "data": {
      "image/png": "[encoded data removed]",
      "text/plain": [
       "<Figure size 432x288 with 1 Axes>"
      ]
     },
     "metadata": {
      "needs_background": "light"
     },
     "output_type": "display_data"
    }
   ],
   "source": [
    "plt.hist(\n",
    "    X_train[y_train == True].score,\n",
    "    range=(0, max(df.score)),\n",
    "    bins=20,\n",
    "    alpha=0.5,\n",
    "    density=True,\n",
    "    label=\"True label\",\n",
    "    color=\"darkgreen\"\n",
    ")\n",
    "plt.hist(\n",
    "    X_train[y_train == False].score,\n",
    "    range=(0, max(df.score)),\n",
    "    bins=20,\n",
    "    alpha=0.5,\n",
    "    density=True,\n",
    "    label=\"False label\",\n",
    "    color=\"red\"\n",
    ")\n",
    "plt.grid()\n",
    "plt.xlabel(\"Score\")\n",
    "plt.ylabel(\"Density\")\n",
    "plt.legend()\n",
    "plt.show()"
   ]
  },
  {
   "cell_type": "markdown",
   "metadata": {},
   "source": [
    "## Drawing the ROC and precision-recall cruves"
   ]
  },
  {
   "cell_type": "code",
   "execution_count": 13,
   "metadata": {},
   "outputs": [
    {
     "data": {
      "image/png": "[encoded data removed]",
      "text/plain": [
       "<Figure size 432x288 with 1 Axes>"
      ]
     },
     "metadata": {
      "needs_background": "light"
     },
     "output_type": "display_data"
    }
   ],
   "source": [
    "fpr, tpr, _thresholds = roc_curve(y_train, X_train.score)\n",
    "\n",
    "auc_score = auc(fpr, tpr)\n",
    "\n",
    "# plt.plot(fpr, tpr, color='red', linewidth=2, label='Score (auc=%0.2f)' % auc_score)\n",
    "plt.plot([0, 1], [0.5, 0.5], color='black', linewidth=2, linestyle='--', label=\"Reference random model auc=0.5\")\n",
    "plt.xlim([0.0, 1.0])\n",
    "plt.ylim([0.0, 1.05])\n",
    "plt.ylabel(r\"True Positive rate $TPR=\\frac{TP}{TP+TN}$\", fontsize=12)\n",
    "plt.xlabel(r\"False Positive Rate $FPR=\\frac{FP}{FP+TN}$\", fontsize=12)\n",
    "\n",
    "plt.fill_between(fpr, 0, tpr, alpha=0.2, label=\"AUC\", color=\"lightblue\")\n",
    "plt.plot(fpr, tpr, \"blue\", label=f\"AUC={auc_score:2.2f}\")\n",
    "\n",
    "plt.xlim(0, 1)\n",
    "plt.ylim(0, 1)\n",
    "plt.grid()\n",
    "plt.legend(loc=\"lower right\", fontsize=10)\n",
    "plt.show()"
   ]
  },
  {
   "cell_type": "code",
   "execution_count": 14,
   "metadata": {
    "scrolled": true
   },
   "outputs": [
    {
     "data": {
      "image/png": "[encoded data removed]",
      "text/plain": [
       "<Figure size 432x288 with 1 Axes>"
      ]
     },
     "metadata": {
      "needs_background": "light"
     },
     "output_type": "display_data"
    }
   ],
   "source": [
    "precisions, recalls, thresholds = precision_recall_curve(y_train, X_train.score)\n",
    "\n",
    "auc_score = auc(recalls, precisions)\n",
    "\n",
    "# plt.plot(fpr, tpr, color='red', linewidth=2, label='Score (auc=%0.2f)' % auc_score)\n",
    "plt.plot([0, 1], [0.5, 0.5], color='black', linewidth=2, linestyle='--', label=\"Reference random model auc=0.5\")\n",
    "plt.xlim([0.0, 1.005])\n",
    "plt.ylim([0.0, 1.005])\n",
    "plt.xlabel(r\"Recall\", fontsize=12)\n",
    "plt.ylabel(r\"Precision\", fontsize=12)\n",
    "\n",
    "plt.fill_between(recalls, 0, precisions, alpha=0.2, label=\"AUC\", color=\"lightblue\")\n",
    "plt.plot(recalls, precisions, \"blue\", label=f\"ROC (AUC={auc_score:2.2f})\")\n",
    "\n",
    "plt.grid()\n",
    "plt.legend(loc=\"lower right\", fontsize=10)\n",
    "plt.show()"
   ]
  },
  {
   "cell_type": "markdown",
   "metadata": {},
   "source": [
    "## Choosing a score threshold"
   ]
  },
  {
   "cell_type": "code",
   "execution_count": 15,
   "metadata": {},
   "outputs": [
    {
     "data": {
      "image/png": "[encoded data removed]",
      "text/plain": [
       "<Figure size 432x288 with 1 Axes>"
      ]
     },
     "metadata": {
      "needs_background": "light"
     },
     "output_type": "display_data"
    }
   ],
   "source": [
    "# precisions, recalls, thresholds = precision_recall_curve(y_train, X_train.score)\n",
    "plt.plot(thresholds, recalls[:-1], label=\"Recall\")\n",
    "plt.plot(thresholds, precisions[:-1], label=\"Precision\")\n",
    "plt.legend()\n",
    "plt.grid()\n",
    "plt.xlabel(\"Threshold\")\n",
    "plt.show()"
   ]
  },
  {
   "cell_type": "markdown",
   "metadata": {},
   "source": [
    "## Building model and measuring performances"
   ]
  },
  {
   "cell_type": "code",
   "execution_count": 16,
   "metadata": {},
   "outputs": [],
   "source": [
    "class SimpleModel(BaseEstimator, ClassifierMixin):\n",
    "    def __init__(self, threshold):\n",
    "        self.threshold = threshold\n",
    "    def fit(self, X, y):\n",
    "        self.classes_ = [True, False]\n",
    "        return self\n",
    "    def predict(self, X, y=None):\n",
    "        return X > self.threshold"
   ]
  },
  {
   "cell_type": "code",
   "execution_count": 17,
   "metadata": {},
   "outputs": [],
   "source": [
    "model = SimpleModel(threshold=5)\n",
    "model.fit(X_train, y_train)\n",
    "pred = model.predict(X_test)"
   ]
  },
  {
   "cell_type": "code",
   "execution_count": 18,
   "metadata": {
    "scrolled": true
   },
   "outputs": [
    {
     "data": {
      "image/png": "[encoded data removed]",
      "text/plain": [
       "<Figure size 432x288 with 2 Axes>"
      ]
     },
     "metadata": {
      "needs_background": "light"
     },
     "output_type": "display_data"
    }
   ],
   "source": [
    "plot_confusion_matrix(model, X_test, y_test, normalize=\"true\")\n",
    "plt.title(\"Confusion matrix normalized per row (True label)\")\n",
    "plt.show()"
   ]
  },
  {
   "cell_type": "code",
   "execution_count": null,
   "metadata": {},
   "outputs": [],
   "source": []
  }
 ],
 "metadata": {
  "kernelspec": {
   "display_name": "Python 3",
   "language": "python",
   "name": "python3"
  },
  "language_info": {
   "codemirror_mode": {
    "name": "ipython",
    "version": 3
   },
   "file_extension": ".py",
   "mimetype": "text/x-python",
   "name": "python",
   "nbconvert_exporter": "python",
   "pygments_lexer": "ipython3",
   "version": "3.7.5"
  }
 },
 "nbformat": 4,
 "nbformat_minor": 4
}
